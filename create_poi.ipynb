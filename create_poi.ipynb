{
 "cells": [
  {
   "cell_type": "code",
   "execution_count": null,
   "metadata": {},
   "outputs": [],
   "source": [
    "import psycopg2\n",
    "import csv"
   ]
  },
  {
   "cell_type": "code",
   "execution_count": null,
   "metadata": {},
   "outputs": [],
   "source": [
    "conn = psycopg2.connect(\n",
    "    host=\"localhost\",\n",
    "    database=\"osm\",\n",
    "    user=\"postgres\",\n",
    "    password=\"postgres\")\n",
    "\n",
    "cursor = conn.cursor()\n",
    "cursor.execute(\"\"\"\n",
    "    SELECT poi.poi_id, poi.name, poi_coordinates.latitude, poi_coordinates.longitude\n",
    "    FROM poi \n",
    "    JOIN poi_coordinates ON poi.poi_id=poi_coordinates.poi_id\"\"\")\n",
    "\n",
    "data = cursor.fetchall()\n",
    "\n",
    "cursor.close()\n",
    "conn.close()"
   ]
  },
  {
   "cell_type": "code",
   "execution_count": null,
   "metadata": {},
   "outputs": [],
   "source": [
    "with open('D:\\\\vkrb\\\\csv\\\\poi.csv', 'w', newline='', encoding='utf-8-sig') as file:\n",
    "    record = csv.writer(file)\n",
    "    record.writerow(['poi_id', 'name', 'latitude', 'longitude'])\n",
    "    record.writerows(data)"
   ]
  }
 ],
 "metadata": {
  "language_info": {
   "name": "python"
  }
 },
 "nbformat": 4,
 "nbformat_minor": 2
}
