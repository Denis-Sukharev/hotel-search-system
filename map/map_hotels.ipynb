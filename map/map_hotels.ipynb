{
 "cells": [
  {
   "cell_type": "code",
   "execution_count": 1,
   "metadata": {},
   "outputs": [],
   "source": [
    "import psycopg2\n",
    "import csv\n",
    "import pandas as pd\n",
    "import plotly.express as px"
   ]
  },
  {
   "cell_type": "code",
   "execution_count": null,
   "metadata": {},
   "outputs": [],
   "source": [
    "def connect_to_database():\n",
    "    try:\n",
    "        conn = psycopg2.connect(\n",
    "            host=\"localhost\",\n",
    "            database=\"osm\",\n",
    "            user=\"postgres\",\n",
    "            password=\"postgres\"\n",
    "        )\n",
    "        return conn\n",
    "    except psycopg2.Error as e:\n",
    "        print(\"Ошибка при подключении к базе данных:\", e)\n",
    "        return None\n",
    "\n",
    "def get_cities(conn):\n",
    "    cursor = conn.cursor()\n",
    "    cursor.execute(\"SELECT name FROM city\")\n",
    "    cities = [row[0] for row in cursor.fetchall()]\n",
    "    cursor.close()\n",
    "    return cities\n",
    "\n",
    "def get_districts(conn):\n",
    "    cursor = conn.cursor()\n",
    "    cursor.execute(\"SELECT name FROM district\")\n",
    "    districts = [row[0] for row in cursor.fetchall()]\n",
    "    cursor.close()\n",
    "    return districts\n",
    "\n",
    "def get_poi_types(conn):\n",
    "    cursor = conn.cursor()\n",
    "    cursor.execute(\"\"\"\n",
    "        SELECT type, COUNT(*) \n",
    "        FROM poi_type \n",
    "        GROUP BY type \n",
    "        HAVING type IN (\n",
    "            'Загородный отель', 'Апарт-отель', 'Арт-отель', 'Бизнес-отель', \n",
    "            'Семейный отель', 'Мини-гостиница', 'Санаторий', 'Гостевые комнаты',\n",
    "            'Капсульный хостел', 'Загородный дом', 'Комплекс апартаментов', 'Комплекс',\n",
    "            'Загородный клуб', 'Капсульный отель', 'Бутик-Отель', 'Отель', \n",
    "            'Общежитие гостиничного типа', 'Эконом-отель', 'Дом отдыха', 'Гостевой дом',\n",
    "            'Гостиничный комплекс', 'Квартира', 'Мини-отель', 'Отель & Хостел',\n",
    "            'Дизайн-Отель', 'Гостиница', 'Спа-отель', 'Отель и апартаменты',\n",
    "            'Хостелы', 'Парк-Отель', 'Исторический отель', 'Арт Отель & Хостел',\n",
    "            'Хостел'\n",
    "        )\n",
    "    \"\"\")\n",
    "    poi_types_with_counts = cursor.fetchall()\n",
    "    cursor.close()\n",
    "\n",
    "    return poi_types_with_counts\n",
    "\n",
    "\n",
    "def get_star_counts(conn):\n",
    "    cursor = conn.cursor()\n",
    "    cursor.execute(\"SELECT DISTINCT stars FROM hotel_stars\")\n",
    "    stars = [row[0] for row in cursor.fetchall()]\n",
    "    cursor.close()\n",
    "    \n",
    "    star_ranges = ['1', '2', '3', '4', '5']\n",
    "    star_counts = []\n",
    "    \n",
    "    for star_range in star_ranges:\n",
    "        hotels_in_range = sum(1 for star in stars if star == star_range)\n",
    "        star_counts.append((star_range, hotels_in_range))\n",
    "    \n",
    "    return star_counts\n",
    "\n",
    "def get_rating_ranges(conn):\n",
    "    cursor = conn.cursor()\n",
    "    cursor.execute(\"SELECT DISTINCT rating FROM hotel_rating\")\n",
    "    ratings = [row[0] for row in cursor.fetchall()]\n",
    "    cursor.close()\n",
    "    ranges = ['0-2', '2-4', '4-6', '6-8', '8-10']\n",
    "    rating_ranges = []\n",
    "    for r in ranges:\n",
    "        min_rating, max_rating = map(int, r.split('-'))\n",
    "        hotels_in_range = sum(1 for rating in ratings if min_rating <= rating <= max_rating)\n",
    "        rating_ranges.append((r, hotels_in_range))\n",
    "    return rating_ranges\n",
    "\n",
    "def get_pois_by_criteria(conn, city_name, district_names=None, poi_types=None, star_counts=None, rating_ranges=None):\n",
    "    cursor = conn.cursor()\n",
    "\n",
    "    query = \"\"\"\n",
    "        SELECT poi.poi_id, poi.name, poi_coordinates.latitude, poi_coordinates.longitude, poi.district_id\n",
    "        FROM poi \n",
    "        JOIN poi_coordinates ON poi.poi_id=poi_coordinates.poi_id\n",
    "        JOIN district ON poi.district_id = district.district_id\n",
    "        JOIN hotel_rating ON poi.poi_id = hotel_rating.poi_id\n",
    "        WHERE district.city_id = (\n",
    "            SELECT city_id FROM city WHERE name = %s\n",
    "        )\n",
    "    \"\"\"\n",
    "    params = [city_name]\n",
    "\n",
    "    if district_names:\n",
    "        query += \" AND district.name IN %s\"\n",
    "        params.append(tuple(district_names))\n",
    "    if poi_types:\n",
    "        query += \" AND poi.poi_id IN (SELECT poi_id FROM poi_type WHERE type IN %s)\"\n",
    "        params.append(tuple(poi_types))\n",
    "    if star_counts:\n",
    "        query += \" AND stars IN %s\"\n",
    "        params.append(tuple(star_counts))\n",
    "    if rating_ranges:\n",
    "        range_conditions = []\n",
    "        for rating_range in rating_ranges:\n",
    "            min_rating, max_rating = map(int, rating_range.split('-'))\n",
    "            range_conditions.append(\"rating BETWEEN %s AND %s\")\n",
    "            params.extend([min_rating, max_rating])\n",
    "        query += \" AND (\" + \" OR \".join(range_conditions) + \")\"\n",
    "\n",
    "    cursor.execute(query, params)\n",
    "    data = cursor.fetchall()\n",
    "\n",
    "    cursor.close()\n",
    "    return data\n",
    "\n",
    "def main():\n",
    "    conn = connect_to_database()\n",
    "    if not conn:\n",
    "        return\n",
    "\n",
    "    print()\n",
    "    print(\"Доступные города:\", ', '.join(get_cities(conn)))\n",
    "    city_name = input(\"Введите название города: \")\n",
    "\n",
    "    print()\n",
    "    print(\"Доступные районы:\")\n",
    "    districts = get_districts(conn)\n",
    "    for i, district in enumerate(districts):\n",
    "        print(f\"{i}: {district}\")\n",
    "    district_input = input(\"Введите номера районов через запятую или оставьте пустым для выбора всех: \")\n",
    "    district_indices = district_input.split(',') if district_input else None\n",
    "    district_names = [districts[int(index)] for index in district_indices] if district_indices else None\n",
    "\n",
    "    print()\n",
    "    print(\"Доступные типы точек интереса:\")\n",
    "    poi_types = get_poi_types(conn)\n",
    "    for i, (poi_type, count) in enumerate(poi_types):\n",
    "        print(f\"{i}: {poi_type} ({count})\")\n",
    "    poi_input = input(\"Введите номера типов мест проживания через запятую или оставьте пустым для выбора всех: \")\n",
    "    poi_indices = poi_input.split(',') if poi_input else None\n",
    "    poi_types_selected = [poi_types[int(index)][0] for index in poi_indices] if poi_indices else None\n",
    "\n",
    "    print()\n",
    "    star_counts = get_star_counts(conn)\n",
    "    print(\"Доступные значения звезд:\")\n",
    "    for i, (star_range, count) in enumerate(star_counts):\n",
    "        print(f\"{i}: {star_range} ({count} мест проживания)\")\n",
    "    star_input = input(\"Введите количество звезд отеля через запятую или оставьте пустым для выбора всех: \").strip()\n",
    "    star_indices = star_input.split(',') if star_input else None  \n",
    "    star_indices_selected = []\n",
    "    if star_indices:\n",
    "        star_indices_selected = [rating_ranges[int(index)][0] for index in star_indices]\n",
    "\n",
    "    print()\n",
    "    print(\"Доступные диапазоны рейтинга:\")\n",
    "    rating_ranges = get_rating_ranges(conn)\n",
    "    for i, (range_name, count) in enumerate(rating_ranges):\n",
    "        print(f\"{i}: {range_name} ({count} мест проживания)\")\n",
    "    rating_range_input = input(\"Введите номера диапазонов рейтинга через запятую или оставьте пустым для выбора всех: \").strip()\n",
    "    rating_range_indices = rating_range_input.split(',') if rating_range_input else None\n",
    "    rating_ranges_selected = []\n",
    "    if rating_range_indices:\n",
    "        rating_ranges_selected = [rating_ranges[int(index)][0] for index in rating_range_indices]\n",
    "\n",
    "    data = get_pois_by_criteria(conn, city_name, district_names, poi_types_selected, star_indices_selected, rating_ranges_selected)\n",
    "\n",
    "    with open('D:\\\\vkrb\\\\csv\\\\hotels.csv', 'w', newline='', encoding='utf-8-sig') as file:\n",
    "        record = csv.writer(file)\n",
    "        record.writerow(['poi_id', 'name', 'latitude', 'longitude', 'district_id'])\n",
    "        record.writerows(data)\n",
    "\n",
    "    conn.close()\n",
    "\n",
    "if __name__ == \"__main__\":\n",
    "    main()\n"
   ]
  },
  {
   "cell_type": "code",
   "execution_count": 2,
   "metadata": {},
   "outputs": [],
   "source": [
    "# бесплатный ключ доступа можно найти здесь https://account.mapbox.com\n",
    "MAPBOX_ACCESS_TOKEN = \"pk.eyJ1IjoiY3NpY3NhY3NvIiwiYSI6ImNsaWFpM3B2bzAzcTUzbXFwZ2ZjdnVpajEifQ.UY-B4Tg9KH0NXNC423X7Jg\""
   ]
  },
  {
   "cell_type": "code",
   "execution_count": 3,
   "metadata": {},
   "outputs": [],
   "source": [
    "data_district_sum = pd.read_csv('D:\\\\vkrb\\\\csv\\\\hotels.csv')\n",
    "district_sum = data_district_sum.groupby('district_id').size().reset_index(name='Плотность')\n",
    "data_district_sum = pd.merge(data_district_sum, district_sum, on='district_id')"
   ]
  },
  {
   "cell_type": "code",
   "execution_count": 10,
   "metadata": {},
   "outputs": [
    {
     "data": {
      "application/vnd.plotly.v1+json": {
       "config": {
        "plotlyServerURL": "https://plot.ly"
       },
       "data": [
        {
         "hovertemplate": "<b>%{hovertext}</b><br><br>latitude=%{lat}<br>longitude=%{lon}<extra></extra>",
         "hovertext": [
          "#FRENDZONA",
          "AZIMUT Отель Дербеневская Москва",
          "CITY CROWN APARTMENTS",
          "KIGO Park Legend",
          "Yes One Moscow",
          "Гармония",
          "Тульский",
          "1 АРТ ОТЕЛЬ",
          "Comfort park",
          "Cosmos Moscow VDNH",
          "1 Мая",
          "BookBox",
          "Disco",
          "17/3 Capsule hotel and lounge",
          "ALL MUSIC Hostel №1 Маяковская",
          "B.60",
          "Brizal",
          "Bulgakov Residence",
          "Centeral Hotel",
          "Che Hotel",
          "Courtyard Петровка",
          "Custos Hotel Tsvetnoy",
          "Custos Petrovsky",
          "Desvillas",
          "Eliseevsky Hotel",
          "Florinn",
          "Four Seasons Hotel Moscow",
          "Gipnoz",
          "GloryVell",
          "Grada Boutique Hotel",
          "Grand Hotel Felix",
          "La Maison Hotel на Большой Дмитровке",
          "Magic Сircus",
          "Sleepy House",
          "Уланский",
          "21/2",
          "Eger177",
          "2HomeHotel",
          "3 Улица Хромова",
          "Dad&Cat",
          "42",
          "365",
          "3D",
          "4 Сезона на Бауманской",
          "Aesthetics Room House",
          "Arthoff",
          "Cinema",
          "Freedom",
          "Good Point",
          "Gregory",
          "Gregory Urban",
          "ФлигелёкЪ",
          "4 Сезона на Достоевской",
          "ASEAN",
          "Norke Prime Менделеевская",
          "45",
          "Amato hotel",
          "Axel Hotel & Hostel",
          "Barista Bed&Breakfast",
          "Basmanny Inn",
          "Brick Design Отель",
          "Eden Hotel",
          "Evans",
          "Golden Horse",
          "Hotel Pokrovka-48",
          "Mamaison All-Suites Spa Hotel Pokrovka",
          "Nice Hostel",
          "Port Comfort on Pokrovka",
          "СИТИ'КО на Чистых прудах",
          "47 Небо",
          "Cheers",
          "CHEERS Capsule Place",
          "Chez Michel",
          "Corsa Vita Hotel",
          "Deep House 1905 Hotel",
          "DIAMOND APARTMENTS",
          "Gostika",
          "GREENVILLE",
          "GROSSOTEL на Пресне",
          "Студии у Патриарших",
          "Шенонсо",
          "7 Sky Hostel Krasnoselskaya",
          "Barin Residence Grand",
          "Barin Residence Myasnitskaya",
          "City Life Hotel",
          "Drop Inn",
          "Guest Room SAD 3",
          "INT OTEL",
          "Венеция в сердце моём",
          "На Краснопрудной",
          "7-Th Floor",
          "999 Gold",
          "Buta на Варшавском",
          "A&T",
          "A&t",
          "Fresh",
          "Academ City Хостел",
          "Asya",
          "Buta",
          "Buta Hotel",
          "HAYAT",
          "La skala",
          "La skala на Краснодонской",
          "AFFONYKATE",
          "GRAD",
          "Amarena",
          "Jazz Hotel",
          "Apartments near Herzen",
          "Belorusskaya Inn",
          "Kaya boutique hotel",
          "Moscow Tower",
          "Боткинская",
          "ApeironSpace",
          "Apple Dream Hotel",
          "Axel Hostel",
          "Balchug Viewpoint Hotel",
          "Barin Residence Centre",
          "Come Inn",
          "Crossroads",
          "Crowne Plaza Moscow Tretyakovskaya",
          "Gallery",
          "N-House",
          "NEW CITY INN",
          "ArtCapsule",
          "Bed&Beer",
          "City Garden Hotel Taganskaya",
          "City Hotel",
          "Crystal на Таганке",
          "FreeLife",
          "Румс",
          "Astrohostel Пехота",
          "Brilliance",
          "Badaroom hostel Moscow",
          "Baza Home",
          "Benvenuti",
          "Kuzminki by Apart In",
          "Bercy Arbat Hotel",
          "Cube",
          "BEST",
          "Metro Apartments",
          "Уютный и тихий",
          "Best Fortuna",
          "CRAZY",
          "Blues",
          "Caps Hotel",
          "Caps Hotel на Остоженке",
          "Grossotel",
          "Moscow Home Hostel",
          "Yes Sport",
          "Brilliance",
          "Butovohotel",
          "Campus",
          "Chalet Country Club",
          "CODE Coliving",
          "Delight Inn Полянка",
          "Diplomat Residence",
          "Forton",
          "Crocus Tushino",
          "D.S Hotel",
          "Dance",
          "De art 13",
          "DoubleTree by Hilton Moscow-Marina",
          "Myhotel24 Voikovskaya",
          "Edge Seligerskaya",
          "ELIMAR",
          "Eliton Saranskaya",
          "Ester House",
          "Garden Embassy",
          "Guest Room SAD 2",
          "Flori hotel",
          "Garden Hotel",
          "Gipnoz Lefortovo",
          "Gipnoz na Aviamotornoy",
          "Астра-Люкс",
          "Fortis",
          "Freedom",
          "Garmonika Rooms",
          "KristInn",
          "Gipnoz Lyublino",
          "L G",
          "Moon",
          "Gipnoz na Dmitrovke",
          "LALAPART",
          "Рабочая Станция",
          "Golden Hotel",
          "Grand Palacio",
          "Hills Hotel",
          "L&G",
          "Ibis Москва Киевская",
          "Круази на Кутузовском",
          "Экспо на Кутузовском",
          "KIGO Spartak",
          "Печора",
          "Семья",
          "Mini-hotel Classic",
          "Myhotel24 Kristalin",
          "NMC APART",
          "Брусника Новогиреево",
          "Семь львов",
          "Строгинский бульвар",
          "Шляпа"
         ],
         "lat": [
          55.71465,
          55.72138,
          55.70386,
          55.70173,
          55.72618,
          55.70631,
          55.70971011475872,
          55.81003625047929,
          55.828137,
          55.82247,
          55.798627,
          55.794589,
          55.797486,
          55.763842,
          55.771147,
          55.775008,
          55.76398,
          55.764782,
          55.764222,
          55.771238502086575,
          55.76473,
          55.773231,
          55.76832,
          55.769332,
          55.76337,
          55.76433907334179,
          55.75659,
          55.775393,
          55.76643,
          55.761041,
          55.764962,
          55.762166,
          55.77291,
          55.7890203,
          55.74992,
          55.79528,
          55.792852,
          55.67503,
          55.799871,
          55.79262,
          55.79915,
          55.65775,
          55.54875,
          55.770122,
          55.76796,
          55.78037,
          55.769091,
          55.77454224298024,
          55.77644,
          55.767647,
          55.767706,
          55.769205,
          55.788662,
          55.80825,
          55.78607,
          55.77977,
          55.753904,
          55.757308,
          55.75776797642852,
          55.76745,
          55.76328,
          55.753899,
          55.761852,
          55.75952600541351,
          55.763297,
          55.761887,
          55.76661,
          55.760282,
          55.762039,
          55.748179,
          55.75571,
          55.755586,
          55.761143,
          55.767995,
          55.765428,
          55.74938,
          55.765718,
          55.760115986299176,
          55.770021,
          55.765579,
          55.76604,
          55.782668,
          55.76158,
          55.761512,
          55.768306,
          55.778043,
          55.765909,
          55.77874,
          55.769777,
          55.776877,
          55.656438,
          55.704986,
          55.69544,
          55.677478,
          55.677421,
          55.6931,
          55.66858955840008,
          55.67286,
          55.671245,
          55.67856,
          55.674093,
          55.676981,
          55.674389,
          55.816269,
          55.8151,
          55.662476,
          55.660463,
          55.78171,
          55.78364,
          55.789239,
          55.785201,
          55.78325,
          55.748518,
          55.730462,
          55.737912,
          55.746588,
          55.747629,
          55.7375,
          55.739,
          55.73938,
          55.73326,
          55.74497,
          55.729747,
          55.746765,
          55.745995,
          55.748042,
          55.74833,
          55.745782,
          55.7445,
          55.74708,
          55.80529651014437,
          55.798702,
          55.73899,
          55.76529651248962,
          55.70721,
          55.701364,
          55.753119,
          55.753909,
          55.82714529326354,
          55.84420323407767,
          55.83221,
          55.86893,
          55.86433,
          55.723584,
          55.744764,
          55.742767,
          55.738313,
          55.739306,
          55.727638,
          55.607255,
          55.53077,
          55.62135,
          55.949264,
          55.742367,
          55.734642,
          55.733303,
          55.730613,
          55.84008966606604,
          55.883068,
          55.8101238367151,
          55.66573602806433,
          55.83278382251,
          55.8167,
          55.87078588859982,
          55.875962,
          55.691592,
          55.77902,
          55.77797,
          55.769484,
          55.73787798064484,
          55.746263,
          55.760672,
          55.75306,
          55.744045,
          55.71974102770386,
          55.701039,
          55.75999,
          55.750073,
          55.659581,
          55.66491,
          55.64953722976329,
          55.812358,
          55.80489,
          55.80245,
          55.70487,
          55.713003,
          55.716761,
          55.704981,
          55.74343,
          55.73651,
          55.74686758498785,
          55.823692,
          55.817694,
          55.82822666395682,
          55.809732,
          55.855108,
          55.60230718517167,
          55.75338,
          55.90653682497795,
          55.8048,
          55.73586
         ],
         "legendgroup": "",
         "lon": [
          37.66009,
          37.65004,
          37.652688,
          37.64233,
          37.65172,
          37.65852,
          37.612,
          37.6437,
          37.650226,
          37.6471,
          37.797945,
          37.777967,
          37.800679,
          37.614545,
          37.60126,
          37.585763,
          37.60867,
          37.599255,
          37.618075,
          37.603,
          37.61503,
          37.619459,
          37.61482,
          37.604214,
          37.60791,
          37.6084,
          37.61655,
          37.618138,
          37.61655,
          37.617231,
          37.61485,
          37.613063,
          37.620766,
          37.5912123,
          37.61915,
          37.69826,
          37.682691,
          37.69247,
          37.716055,
          37.713162,
          37.51879,
          37.587659,
          37.57066,
          37.683634,
          37.6716,
          37.6975,
          37.660726,
          37.6901,
          37.68263,
          37.677445,
          37.677212,
          37.65744,
          37.613799,
          37.60939,
          37.606873,
          37.7047,
          37.667959,
          37.646597,
          37.6506,
          37.65309,
          37.63634,
          37.637982,
          37.640866,
          37.6311,
          37.654859,
          37.653029,
          37.65344,
          37.64887,
          37.637452,
          37.540245,
          37.60199,
          37.602292,
          37.571076,
          37.558625,
          37.556028,
          37.534092,
          37.59111,
          37.551,
          37.579439,
          37.588952,
          37.595564,
          37.661042,
          37.63204,
          37.631954,
          37.634313,
          37.648271,
          37.632125,
          37.666234,
          37.646505,
          37.65938,
          37.473653,
          37.588961,
          37.62223,
          37.579834,
          37.579827,
          37.59629,
          37.7582,
          37.79435,
          37.759282,
          37.761411,
          37.773116,
          37.76716,
          37.748305,
          37.637667,
          37.62465,
          37.645348,
          37.626056,
          37.5659,
          37.57853,
          37.569486,
          37.5685,
          37.55875,
          37.627229,
          37.626432,
          37.640183,
          37.62801,
          37.627543,
          37.63477,
          37.64391,
          37.63666,
          37.62547,
          37.62576,
          37.639464,
          37.66247,
          37.667132,
          37.655032,
          37.67626,
          37.66689,
          37.65626,
          37.65861,
          37.4791,
          37.463332,
          37.48915,
          37.7246,
          37.75615,
          37.75152,
          37.591566,
          37.585655,
          37.5905,
          37.5771,
          37.59217,
          37.62179,
          37.58694,
          37.56767,
          37.599094,
          37.600801,
          37.604786,
          37.582503,
          37.586508,
          37.592402,
          37.53636,
          37.70689,
          37.350047,
          37.617339,
          37.613591999999,
          37.616682,
          37.619306,
          37.4162,
          37.564316,
          37.37859,
          37.5477,
          37.4847693,
          37.48991,
          37.5352,
          37.587652,
          37.857953,
          37.63907,
          37.63766,
          37.622747,
          37.7166,
          37.698685,
          37.70523,
          37.71458,
          37.705679,
          37.6756,
          37.735674,
          37.79372,
          37.770421,
          37.759371,
          37.77683,
          37.7548,
          37.583643,
          37.589895,
          37.58371,
          37.68515,
          37.721712,
          37.510363,
          37.501618,
          37.56252,
          37.52214,
          37.5526,
          37.433957,
          37.462613,
          37.4557,
          37.560987,
          37.565084,
          37.3523,
          37.82471,
          37.5549,
          37.39432,
          37.84692
         ],
         "marker": {
          "color": "red"
         },
         "mode": "markers",
         "name": "",
         "showlegend": false,
         "subplot": "mapbox",
         "type": "scattermapbox"
        }
       ],
       "layout": {
        "height": 800,
        "legend": {
         "tracegroupgap": 0
        },
        "mapbox": {
         "center": {
          "lat": 55.75478745422549,
          "lon": 37.62583640099502
         },
         "domain": {
          "x": [
           0,
           1
          ],
          "y": [
           0,
           1
          ]
         },
         "style": "carto-positron",
         "zoom": 9
        },
        "margin": {
         "t": 60
        },
        "template": {
         "data": {
          "bar": [
           {
            "error_x": {
             "color": "#2a3f5f"
            },
            "error_y": {
             "color": "#2a3f5f"
            },
            "marker": {
             "line": {
              "color": "#E5ECF6",
              "width": 0.5
             },
             "pattern": {
              "fillmode": "overlay",
              "size": 10,
              "solidity": 0.2
             }
            },
            "type": "bar"
           }
          ],
          "barpolar": [
           {
            "marker": {
             "line": {
              "color": "#E5ECF6",
              "width": 0.5
             },
             "pattern": {
              "fillmode": "overlay",
              "size": 10,
              "solidity": 0.2
             }
            },
            "type": "barpolar"
           }
          ],
          "carpet": [
           {
            "aaxis": {
             "endlinecolor": "#2a3f5f",
             "gridcolor": "white",
             "linecolor": "white",
             "minorgridcolor": "white",
             "startlinecolor": "#2a3f5f"
            },
            "baxis": {
             "endlinecolor": "#2a3f5f",
             "gridcolor": "white",
             "linecolor": "white",
             "minorgridcolor": "white",
             "startlinecolor": "#2a3f5f"
            },
            "type": "carpet"
           }
          ],
          "choropleth": [
           {
            "colorbar": {
             "outlinewidth": 0,
             "ticks": ""
            },
            "type": "choropleth"
           }
          ],
          "contour": [
           {
            "colorbar": {
             "outlinewidth": 0,
             "ticks": ""
            },
            "colorscale": [
             [
              0,
              "#0d0887"
             ],
             [
              0.1111111111111111,
              "#46039f"
             ],
             [
              0.2222222222222222,
              "#7201a8"
             ],
             [
              0.3333333333333333,
              "#9c179e"
             ],
             [
              0.4444444444444444,
              "#bd3786"
             ],
             [
              0.5555555555555556,
              "#d8576b"
             ],
             [
              0.6666666666666666,
              "#ed7953"
             ],
             [
              0.7777777777777778,
              "#fb9f3a"
             ],
             [
              0.8888888888888888,
              "#fdca26"
             ],
             [
              1,
              "#f0f921"
             ]
            ],
            "type": "contour"
           }
          ],
          "contourcarpet": [
           {
            "colorbar": {
             "outlinewidth": 0,
             "ticks": ""
            },
            "type": "contourcarpet"
           }
          ],
          "heatmap": [
           {
            "colorbar": {
             "outlinewidth": 0,
             "ticks": ""
            },
            "colorscale": [
             [
              0,
              "#0d0887"
             ],
             [
              0.1111111111111111,
              "#46039f"
             ],
             [
              0.2222222222222222,
              "#7201a8"
             ],
             [
              0.3333333333333333,
              "#9c179e"
             ],
             [
              0.4444444444444444,
              "#bd3786"
             ],
             [
              0.5555555555555556,
              "#d8576b"
             ],
             [
              0.6666666666666666,
              "#ed7953"
             ],
             [
              0.7777777777777778,
              "#fb9f3a"
             ],
             [
              0.8888888888888888,
              "#fdca26"
             ],
             [
              1,
              "#f0f921"
             ]
            ],
            "type": "heatmap"
           }
          ],
          "heatmapgl": [
           {
            "colorbar": {
             "outlinewidth": 0,
             "ticks": ""
            },
            "colorscale": [
             [
              0,
              "#0d0887"
             ],
             [
              0.1111111111111111,
              "#46039f"
             ],
             [
              0.2222222222222222,
              "#7201a8"
             ],
             [
              0.3333333333333333,
              "#9c179e"
             ],
             [
              0.4444444444444444,
              "#bd3786"
             ],
             [
              0.5555555555555556,
              "#d8576b"
             ],
             [
              0.6666666666666666,
              "#ed7953"
             ],
             [
              0.7777777777777778,
              "#fb9f3a"
             ],
             [
              0.8888888888888888,
              "#fdca26"
             ],
             [
              1,
              "#f0f921"
             ]
            ],
            "type": "heatmapgl"
           }
          ],
          "histogram": [
           {
            "marker": {
             "pattern": {
              "fillmode": "overlay",
              "size": 10,
              "solidity": 0.2
             }
            },
            "type": "histogram"
           }
          ],
          "histogram2d": [
           {
            "colorbar": {
             "outlinewidth": 0,
             "ticks": ""
            },
            "colorscale": [
             [
              0,
              "#0d0887"
             ],
             [
              0.1111111111111111,
              "#46039f"
             ],
             [
              0.2222222222222222,
              "#7201a8"
             ],
             [
              0.3333333333333333,
              "#9c179e"
             ],
             [
              0.4444444444444444,
              "#bd3786"
             ],
             [
              0.5555555555555556,
              "#d8576b"
             ],
             [
              0.6666666666666666,
              "#ed7953"
             ],
             [
              0.7777777777777778,
              "#fb9f3a"
             ],
             [
              0.8888888888888888,
              "#fdca26"
             ],
             [
              1,
              "#f0f921"
             ]
            ],
            "type": "histogram2d"
           }
          ],
          "histogram2dcontour": [
           {
            "colorbar": {
             "outlinewidth": 0,
             "ticks": ""
            },
            "colorscale": [
             [
              0,
              "#0d0887"
             ],
             [
              0.1111111111111111,
              "#46039f"
             ],
             [
              0.2222222222222222,
              "#7201a8"
             ],
             [
              0.3333333333333333,
              "#9c179e"
             ],
             [
              0.4444444444444444,
              "#bd3786"
             ],
             [
              0.5555555555555556,
              "#d8576b"
             ],
             [
              0.6666666666666666,
              "#ed7953"
             ],
             [
              0.7777777777777778,
              "#fb9f3a"
             ],
             [
              0.8888888888888888,
              "#fdca26"
             ],
             [
              1,
              "#f0f921"
             ]
            ],
            "type": "histogram2dcontour"
           }
          ],
          "mesh3d": [
           {
            "colorbar": {
             "outlinewidth": 0,
             "ticks": ""
            },
            "type": "mesh3d"
           }
          ],
          "parcoords": [
           {
            "line": {
             "colorbar": {
              "outlinewidth": 0,
              "ticks": ""
             }
            },
            "type": "parcoords"
           }
          ],
          "pie": [
           {
            "automargin": true,
            "type": "pie"
           }
          ],
          "scatter": [
           {
            "fillpattern": {
             "fillmode": "overlay",
             "size": 10,
             "solidity": 0.2
            },
            "type": "scatter"
           }
          ],
          "scatter3d": [
           {
            "line": {
             "colorbar": {
              "outlinewidth": 0,
              "ticks": ""
             }
            },
            "marker": {
             "colorbar": {
              "outlinewidth": 0,
              "ticks": ""
             }
            },
            "type": "scatter3d"
           }
          ],
          "scattercarpet": [
           {
            "marker": {
             "colorbar": {
              "outlinewidth": 0,
              "ticks": ""
             }
            },
            "type": "scattercarpet"
           }
          ],
          "scattergeo": [
           {
            "marker": {
             "colorbar": {
              "outlinewidth": 0,
              "ticks": ""
             }
            },
            "type": "scattergeo"
           }
          ],
          "scattergl": [
           {
            "marker": {
             "colorbar": {
              "outlinewidth": 0,
              "ticks": ""
             }
            },
            "type": "scattergl"
           }
          ],
          "scattermapbox": [
           {
            "marker": {
             "colorbar": {
              "outlinewidth": 0,
              "ticks": ""
             }
            },
            "type": "scattermapbox"
           }
          ],
          "scatterpolar": [
           {
            "marker": {
             "colorbar": {
              "outlinewidth": 0,
              "ticks": ""
             }
            },
            "type": "scatterpolar"
           }
          ],
          "scatterpolargl": [
           {
            "marker": {
             "colorbar": {
              "outlinewidth": 0,
              "ticks": ""
             }
            },
            "type": "scatterpolargl"
           }
          ],
          "scatterternary": [
           {
            "marker": {
             "colorbar": {
              "outlinewidth": 0,
              "ticks": ""
             }
            },
            "type": "scatterternary"
           }
          ],
          "surface": [
           {
            "colorbar": {
             "outlinewidth": 0,
             "ticks": ""
            },
            "colorscale": [
             [
              0,
              "#0d0887"
             ],
             [
              0.1111111111111111,
              "#46039f"
             ],
             [
              0.2222222222222222,
              "#7201a8"
             ],
             [
              0.3333333333333333,
              "#9c179e"
             ],
             [
              0.4444444444444444,
              "#bd3786"
             ],
             [
              0.5555555555555556,
              "#d8576b"
             ],
             [
              0.6666666666666666,
              "#ed7953"
             ],
             [
              0.7777777777777778,
              "#fb9f3a"
             ],
             [
              0.8888888888888888,
              "#fdca26"
             ],
             [
              1,
              "#f0f921"
             ]
            ],
            "type": "surface"
           }
          ],
          "table": [
           {
            "cells": {
             "fill": {
              "color": "#EBF0F8"
             },
             "line": {
              "color": "white"
             }
            },
            "header": {
             "fill": {
              "color": "#C8D4E3"
             },
             "line": {
              "color": "white"
             }
            },
            "type": "table"
           }
          ]
         },
         "layout": {
          "annotationdefaults": {
           "arrowcolor": "#2a3f5f",
           "arrowhead": 0,
           "arrowwidth": 1
          },
          "autotypenumbers": "strict",
          "coloraxis": {
           "colorbar": {
            "outlinewidth": 0,
            "ticks": ""
           }
          },
          "colorscale": {
           "diverging": [
            [
             0,
             "#8e0152"
            ],
            [
             0.1,
             "#c51b7d"
            ],
            [
             0.2,
             "#de77ae"
            ],
            [
             0.3,
             "#f1b6da"
            ],
            [
             0.4,
             "#fde0ef"
            ],
            [
             0.5,
             "#f7f7f7"
            ],
            [
             0.6,
             "#e6f5d0"
            ],
            [
             0.7,
             "#b8e186"
            ],
            [
             0.8,
             "#7fbc41"
            ],
            [
             0.9,
             "#4d9221"
            ],
            [
             1,
             "#276419"
            ]
           ],
           "sequential": [
            [
             0,
             "#0d0887"
            ],
            [
             0.1111111111111111,
             "#46039f"
            ],
            [
             0.2222222222222222,
             "#7201a8"
            ],
            [
             0.3333333333333333,
             "#9c179e"
            ],
            [
             0.4444444444444444,
             "#bd3786"
            ],
            [
             0.5555555555555556,
             "#d8576b"
            ],
            [
             0.6666666666666666,
             "#ed7953"
            ],
            [
             0.7777777777777778,
             "#fb9f3a"
            ],
            [
             0.8888888888888888,
             "#fdca26"
            ],
            [
             1,
             "#f0f921"
            ]
           ],
           "sequentialminus": [
            [
             0,
             "#0d0887"
            ],
            [
             0.1111111111111111,
             "#46039f"
            ],
            [
             0.2222222222222222,
             "#7201a8"
            ],
            [
             0.3333333333333333,
             "#9c179e"
            ],
            [
             0.4444444444444444,
             "#bd3786"
            ],
            [
             0.5555555555555556,
             "#d8576b"
            ],
            [
             0.6666666666666666,
             "#ed7953"
            ],
            [
             0.7777777777777778,
             "#fb9f3a"
            ],
            [
             0.8888888888888888,
             "#fdca26"
            ],
            [
             1,
             "#f0f921"
            ]
           ]
          },
          "colorway": [
           "#636efa",
           "#EF553B",
           "#00cc96",
           "#ab63fa",
           "#FFA15A",
           "#19d3f3",
           "#FF6692",
           "#B6E880",
           "#FF97FF",
           "#FECB52"
          ],
          "font": {
           "color": "#2a3f5f"
          },
          "geo": {
           "bgcolor": "white",
           "lakecolor": "white",
           "landcolor": "#E5ECF6",
           "showlakes": true,
           "showland": true,
           "subunitcolor": "white"
          },
          "hoverlabel": {
           "align": "left"
          },
          "hovermode": "closest",
          "mapbox": {
           "style": "light"
          },
          "paper_bgcolor": "white",
          "plot_bgcolor": "#E5ECF6",
          "polar": {
           "angularaxis": {
            "gridcolor": "white",
            "linecolor": "white",
            "ticks": ""
           },
           "bgcolor": "#E5ECF6",
           "radialaxis": {
            "gridcolor": "white",
            "linecolor": "white",
            "ticks": ""
           }
          },
          "scene": {
           "xaxis": {
            "backgroundcolor": "#E5ECF6",
            "gridcolor": "white",
            "gridwidth": 2,
            "linecolor": "white",
            "showbackground": true,
            "ticks": "",
            "zerolinecolor": "white"
           },
           "yaxis": {
            "backgroundcolor": "#E5ECF6",
            "gridcolor": "white",
            "gridwidth": 2,
            "linecolor": "white",
            "showbackground": true,
            "ticks": "",
            "zerolinecolor": "white"
           },
           "zaxis": {
            "backgroundcolor": "#E5ECF6",
            "gridcolor": "white",
            "gridwidth": 2,
            "linecolor": "white",
            "showbackground": true,
            "ticks": "",
            "zerolinecolor": "white"
           }
          },
          "shapedefaults": {
           "line": {
            "color": "#2a3f5f"
           }
          },
          "ternary": {
           "aaxis": {
            "gridcolor": "white",
            "linecolor": "white",
            "ticks": ""
           },
           "baxis": {
            "gridcolor": "white",
            "linecolor": "white",
            "ticks": ""
           },
           "bgcolor": "#E5ECF6",
           "caxis": {
            "gridcolor": "white",
            "linecolor": "white",
            "ticks": ""
           }
          },
          "title": {
           "x": 0.05
          },
          "xaxis": {
           "automargin": true,
           "gridcolor": "white",
           "linecolor": "white",
           "ticks": "",
           "title": {
            "standoff": 15
           },
           "zerolinecolor": "white",
           "zerolinewidth": 2
          },
          "yaxis": {
           "automargin": true,
           "gridcolor": "white",
           "linecolor": "white",
           "ticks": "",
           "title": {
            "standoff": 15
           },
           "zerolinecolor": "white",
           "zerolinewidth": 2
          }
         }
        },
        "width": 1000
       }
      }
     },
     "metadata": {},
     "output_type": "display_data"
    }
   ],
   "source": [
    "fig = px.scatter_mapbox(data_district_sum, lat='latitude', lon='longitude',\n",
    "                        # color='Плотность', #size='Плотность',\n",
    "                        # width=1000, height=800, \n",
    "                        hover_name='name',\n",
    "                        zoom = 9,\n",
    "                        # mapbox_style='open-street-map'\n",
    "                        mapbox_style='carto-positron',\n",
    "                        color_discrete_sequence=['red']\n",
    "                        )\n",
    "fig.show()"
   ]
  }
 ],
 "metadata": {
  "kernelspec": {
   "display_name": "Python 3",
   "language": "python",
   "name": "python3"
  },
  "language_info": {
   "codemirror_mode": {
    "name": "ipython",
    "version": 3
   },
   "file_extension": ".py",
   "mimetype": "text/x-python",
   "name": "python",
   "nbconvert_exporter": "python",
   "pygments_lexer": "ipython3",
   "version": "3.11.5"
  }
 },
 "nbformat": 4,
 "nbformat_minor": 2
}
