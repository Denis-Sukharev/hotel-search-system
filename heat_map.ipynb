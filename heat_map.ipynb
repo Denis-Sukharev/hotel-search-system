{
 "cells": [
  {
   "cell_type": "code",
   "execution_count": 2,
   "metadata": {},
   "outputs": [],
   "source": [
    "import psycopg2\n",
    "\n",
    "conn = psycopg2.connect(\n",
    "    host=\"localhost\",\n",
    "    database=\"osm\",\n",
    "    user=\"postgres\",\n",
    "    password=\"postgres\")\n",
    "\n",
    "cursor = conn.cursor()\n",
    "cursor.execute(\"\"\"\n",
    "    SELECT poi.poi_id, poi.name, poi_coordinates.latitude, poi_coordinates.longitude, poi.district_id\n",
    "    FROM poi \n",
    "    JOIN poi_coordinates ON poi.poi_id=poi_coordinates.poi_id\n",
    "\"\"\")\n",
    "\n",
    "# результат с данными\n",
    "data = cursor.fetchall()\n",
    "\n",
    "cursor.close()\n",
    "conn.close()"
   ]
  },
  {
   "cell_type": "code",
   "execution_count": 3,
   "metadata": {},
   "outputs": [],
   "source": [
    "import csv\n",
    "with open('D:\\\\vkrb\\\\csv\\\\poi.csv', 'w', newline='', encoding='utf-8-sig') as file:\n",
    "    record = csv.writer(file)\n",
    "    record.writerow(['poi_id', 'name', 'latitude', 'longitude', 'district_id'])\n",
    "    record.writerows(data)"
   ]
  },
  {
   "cell_type": "code",
   "execution_count": 4,
   "metadata": {},
   "outputs": [],
   "source": [
    "import plotly.graph_objects as go\n",
    "# бесплатный ключ доступа можно найти здесь https://account.mapbox.com\n",
    "MAPBOX_ACCESS_TOKEN = \"pk.eyJ1IjoiY3NpY3NhY3NvIiwiYSI6ImNsaWFpM3B2bzAzcTUzbXFwZ2ZjdnVpajEifQ.UY-B4Tg9KH0NXNC423X7Jg\""
   ]
  },
  {
   "cell_type": "code",
   "execution_count": 5,
   "metadata": {},
   "outputs": [],
   "source": [
    "import pandas as pd\n",
    "data = pd.read_csv('D:\\\\vkrb\\\\csv\\\\poi.csv')"
   ]
  },
  {
   "cell_type": "code",
   "execution_count": 10,
   "metadata": {},
   "outputs": [
    {
     "data": {
      "application/vnd.plotly.v1+json": {
       "config": {
        "plotlyServerURL": "https://plot.ly"
       },
       "data": [
        {
         "hovertemplate": "<b>%{hovertext}</b><br><br>Плотность=%{marker.color}<br>latitude=%{lat}<br>longitude=%{lon}<extra></extra>",
         "hovertext": [
          "Кириллу и Мефодию",
          "Юрию Долгорукому",
          "О. Н. Ефремову",
          "В. С. Высоцкому",
          "А. С. Пушкину",
          "В. В. Маяковскому",
          "Unknown",
          "Г. К. Жукову",
          "17/3 Capsule hotel and lounge",
          "ALL MUSIC Hostel №1 Маяковская",
          "Н. В. Гоголю",
          "Н. В. Гоголю",
          "Ополченцам Пролетарского района, погибшим в Великой Отечественной войне",
          "Св. князю Даниилу",
          "#FRENDZONA",
          "П. И. Багратиону",
          "В. И. Ленину",
          "Эрнсту Тельману",
          "С.Н. Фёдорову",
          "А. А. Андреев",
          "Ю. Н. Рерих",
          "Р. М. Глиэр",
          "Б. В. Иогансону",
          "Александру II",
          "М. В. Ломоносову",
          "Малый Власьевский переулок",
          "Фомичёва К. Я.",
          "Героям-панфиловцам",
          "Н.Э. Бауману",
          "А. С. Грибоедову",
          "Н. Г. Чернышевскому",
          "Unknown",
          "Unknown",
          "45",
          "5 Небо",
          "7 слонов",
          "Amato hotel",
          "М.И. Калинину",
          "В. Г. Шухову",
          "Н. К. Крупской",
          "Дом Культуры Железнодорожников",
          "В. И. Ленину",
          "Е. Е. Лансере",
          "7 Sky Hostel Krasnoselskaya",
          "К. А. Тимирязеву",
          "П. И. Чайковскому",
          "47 Небо",
          "Хо Ши Мину",
          "A&T",
          "A&t",
          "Мальчиш-Кибальчиш",
          "А. Н. Несмеянову",
          "С. И. Вавилову",
          "Погибшим воинам села Троице-лыково",
          "САУ СУ-100",
          "Вечный огонь",
          "Д. И. Менделееву",
          "А. М. Бутлерову",
          "Рабочий",
          "пограничникам Отечества",
          "А. С. Пушкину",
          "Скульптурная композиция «Победители»",
          "Алие Молдагуловой",
          "Unknown",
          "Unknown",
          "Unknown",
          "Unknown",
          "Г. Х. Андерсену",
          "Памятник студенческим приметам",
          "Участникам Великой Отечественной войны от благодарных потомков",
          "В. И. Ленину",
          "М. А. Шолохову",
          "летчику М.С.Бабушкину",
          "Лётчица Е.М.Руднева",
          "Лётчик М.С.Бабушкин",
          "В. И. Ленину",
          "В. И. Ленину",
          "Н. Гастелло",
          "21/2",
          "В. И. Ленину",
          "М. В. Келдышу",
          "В. П. Глушко",
          "К. Э. Циолковскому",
          "В. М. Комарову",
          "А. А. Леонову",
          "П. И. Беляеву",
          "Ю. А. Гагарину",
          "В. В. Терешковой",
          "AFFONYKATE",
          "Евгению Михайлову",
          "И. Полбин",
          "А. И. Шокину",
          "Сапёрам",
          "1 Мая",
          "геологам",
          "Оранжевый и желтый батискафы",
          "Ямщику",
          "армейским дрессировщикам и собакам",
          "В. И. Ленину",
          "Танк Т-34",
          "Героизму и доблести моряков-черноморцев",
          "А. Н. Крылову",
          "Unknown",
          "Неизвестному солдату",
          "Unknown",
          "Москвичам-ополченцам",
          "108 Minutes",
          "Павшим в Великой Отечественной войне",
          "Жителям деревни Битца, погибшим в Великой Отечественной войне",
          "Братская могила русских воинов, погибших в 1812 г.",
          "Cоловецким юнгам",
          "Unknown",
          "Памятник рабочим Кусковского химзавода",
          "1 АРТ ОТЕЛЬ",
          "2HomeHotel",
          "3 Улица Хромова",
          "365",
          "3D",
          "4 Сезона на Бауманской",
          "Aesthetics Room House",
          "4 Сезона на Достоевской",
          "42",
          "7-Th Floor",
          "999 Gold",
          "Academ City Хостел",
          "Alex-apps",
          "Amarena"
         ],
         "lat": [
          55.7546114,
          55.7618096,
          55.7593714,
          55.7681702,
          55.7653354,
          55.769621,
          55.7649497,
          55.7558556,
          55.763842,
          55.771147,
          55.7506766,
          55.7539357,
          55.7075225,
          55.7128651,
          55.71465,
          55.745254,
          55.7294142,
          55.8015022,
          55.8664319,
          55.7246885,
          55.7255344,
          55.7254909,
          55.7218955,
          55.7457521,
          55.701189,
          55.747257,
          55.8588452,
          55.8584839,
          55.7660979,
          55.7644614,
          55.7590661,
          55.7683207,
          55.7600767,
          55.77977,
          55.75774,
          55.75773,
          55.753904,
          55.7528952,
          55.7661206,
          55.7666224,
          55.7756784,
          55.7768305,
          55.7653883,
          55.782668,
          55.7579029,
          55.75657,
          55.748179,
          55.6879611,
          55.677478,
          55.677421,
          55.7057532,
          55.7001216,
          55.6984376,
          55.789432,
          55.8039349,
          55.6982743,
          55.7018143,
          55.7021809,
          55.7328581,
          55.7490395,
          55.7121225,
          55.7371624,
          55.7210265,
          55.792366,
          55.6689587,
          55.6442375,
          55.6487371,
          55.6473479,
          55.6457702,
          55.6088201,
          55.6539358,
          55.7074525,
          55.861039,
          55.8668427,
          55.8673991,
          55.8634874,
          55.7504414,
          55.7874959,
          55.79528,
          55.8280608,
          55.8221472,
          55.8220558,
          55.8222541,
          55.8218648,
          55.8219234,
          55.8219821,
          55.8220994,
          55.8220408,
          55.816269,
          55.7295024,
          55.6826525,
          55.983672,
          55.7933866,
          55.798627,
          55.6491442,
          55.6492002,
          55.7654926,
          55.765562,
          55.7658397,
          55.8292981,
          55.6703287,
          55.85196,
          55.7433874,
          55.6495918,
          55.8583484,
          55.7333105,
          55.739982,
          55.5713036,
          55.5786588,
          55.5785112,
          55.8032687,
          55.8783484,
          55.7434193,
          55.81003625047929,
          55.67503,
          55.799871,
          55.65775,
          55.54875,
          55.770122,
          55.76796,
          55.788662,
          55.79915,
          55.656438,
          55.704986,
          55.66858955840008,
          55.84716,
          55.662476
         ],
         "legendgroup": "",
         "lon": [
          37.6339331,
          37.6101609,
          37.6111279,
          37.6129196,
          37.6054856,
          37.5956487,
          37.6034062,
          37.6168327,
          37.614545,
          37.60126,
          37.6004883,
          37.5997708,
          37.6586537,
          37.6230803,
          37.66009,
          37.5476342,
          37.6132621,
          37.5315135,
          37.5489044,
          37.554625,
          37.5545564,
          37.55405,
          37.5851685,
          37.6068567,
          37.527634,
          37.5928611,
          37.4488428,
          37.4297385,
          37.6839802,
          37.639259,
          37.6471132,
          37.6446712,
          37.6311531,
          37.7047,
          37.63342,
          37.63255,
          37.667959,
          37.7175152,
          37.635674,
          37.6322918,
          37.658178,
          37.6584163,
          37.6324967,
          37.661042,
          37.5985884,
          37.6044424,
          37.540245,
          37.5748468,
          37.579834,
          37.579827,
          37.5550949,
          37.5756138,
          37.5651151,
          37.4038506,
          37.4191965,
          37.5389603,
          37.5258901,
          37.5265411,
          37.6677446,
          37.6426122,
          37.7296669,
          37.827748,
          37.8301846,
          37.6359791,
          37.7631444,
          37.7309731,
          37.7681691,
          37.7642743,
          37.7611549,
          37.7196963,
          37.701212,
          37.7462051,
          37.6743721,
          37.6755693,
          37.6828498,
          37.6824296,
          37.4958394,
          37.6793857,
          37.69826,
          37.6347098,
          37.6389468,
          37.6389447,
          37.6396213,
          37.6401642,
          37.640185,
          37.6402058,
          37.6402474,
          37.6402266,
          37.637667,
          37.7618366,
          37.7300811,
          37.2096013,
          37.7953612,
          37.797945,
          37.5125219,
          37.5122404,
          37.8144956,
          37.8214526,
          37.8008118,
          37.4519296,
          37.5850377,
          37.46684,
          37.869718,
          37.3900203,
          37.641306,
          37.6362984,
          37.62611806,
          37.5798004,
          37.5638244,
          37.5640041,
          37.8300931,
          37.6367833,
          37.7979457,
          37.6437,
          37.69247,
          37.716055,
          37.587659,
          37.57066,
          37.683634,
          37.6716,
          37.613799,
          37.51879,
          37.473653,
          37.588961,
          37.7582,
          37.58123,
          37.645348
         ],
         "marker": {
          "color": [
           10,
           10,
           10,
           10,
           10,
           10,
           10,
           10,
           10,
           10,
           2,
           2,
           3,
           3,
           3,
           1,
           1,
           1,
           1,
           7,
           7,
           7,
           7,
           7,
           7,
           7,
           2,
           2,
           9,
           9,
           9,
           9,
           9,
           9,
           9,
           9,
           9,
           1,
           6,
           6,
           6,
           6,
           6,
           6,
           3,
           3,
           3,
           3,
           3,
           3,
           3,
           3,
           3,
           2,
           2,
           3,
           3,
           3,
           2,
           2,
           1,
           2,
           2,
           1,
           5,
           5,
           5,
           5,
           5,
           1,
           1,
           1,
           2,
           2,
           2,
           2,
           1,
           2,
           2,
           10,
           10,
           10,
           10,
           10,
           10,
           10,
           10,
           10,
           10,
           1,
           1,
           1,
           2,
           2,
           2,
           2,
           2,
           2,
           1,
           1,
           1,
           1,
           1,
           1,
           1,
           2,
           2,
           3,
           3,
           3,
           1,
           1,
           1,
           1,
           1,
           1,
           1,
           1,
           2,
           2,
           1,
           1,
           1,
           1,
           1,
           1,
           1
          ],
          "coloraxis": "coloraxis",
          "size": [
           10,
           10,
           10,
           10,
           10,
           10,
           10,
           10,
           10,
           10,
           2,
           2,
           3,
           3,
           3,
           1,
           1,
           1,
           1,
           7,
           7,
           7,
           7,
           7,
           7,
           7,
           2,
           2,
           9,
           9,
           9,
           9,
           9,
           9,
           9,
           9,
           9,
           1,
           6,
           6,
           6,
           6,
           6,
           6,
           3,
           3,
           3,
           3,
           3,
           3,
           3,
           3,
           3,
           2,
           2,
           3,
           3,
           3,
           2,
           2,
           1,
           2,
           2,
           1,
           5,
           5,
           5,
           5,
           5,
           1,
           1,
           1,
           2,
           2,
           2,
           2,
           1,
           2,
           2,
           10,
           10,
           10,
           10,
           10,
           10,
           10,
           10,
           10,
           10,
           1,
           1,
           1,
           2,
           2,
           2,
           2,
           2,
           2,
           1,
           1,
           1,
           1,
           1,
           1,
           1,
           2,
           2,
           3,
           3,
           3,
           1,
           1,
           1,
           1,
           1,
           1,
           1,
           1,
           2,
           2,
           1,
           1,
           1,
           1,
           1,
           1,
           1
          ],
          "sizemode": "area",
          "sizeref": 0.025
         },
         "mode": "markers",
         "name": "",
         "showlegend": false,
         "subplot": "mapbox",
         "type": "scattermapbox"
        }
       ],
       "layout": {
        "coloraxis": {
         "colorbar": {
          "title": {
           "text": "Плотность"
          }
         },
         "colorscale": [
          [
           0,
           "#0d0887"
          ],
          [
           0.1111111111111111,
           "#46039f"
          ],
          [
           0.2222222222222222,
           "#7201a8"
          ],
          [
           0.3333333333333333,
           "#9c179e"
          ],
          [
           0.4444444444444444,
           "#bd3786"
          ],
          [
           0.5555555555555556,
           "#d8576b"
          ],
          [
           0.6666666666666666,
           "#ed7953"
          ],
          [
           0.7777777777777778,
           "#fb9f3a"
          ],
          [
           0.8888888888888888,
           "#fdca26"
          ],
          [
           1,
           "#f0f921"
          ]
         ]
        },
        "height": 800,
        "legend": {
         "itemsizing": "constant",
         "tracegroupgap": 0
        },
        "mapbox": {
         "accesstoken": "pk.eyJ1IjoiY3NpY3NhY3NvIiwiYSI6ImNsaWFpM3B2bzAzcTUzbXFwZ2ZjdnVpajEifQ.UY-B4Tg9KH0NXNC423X7Jg",
         "center": {
          "lat": 55.74989942999118,
          "lon": 37.628517561889765
         },
         "domain": {
          "x": [
           0,
           1
          ],
          "y": [
           0,
           1
          ]
         },
         "style": "open-street-map",
         "zoom": 8
        },
        "margin": {
         "t": 60
        },
        "template": {
         "data": {
          "bar": [
           {
            "error_x": {
             "color": "#2a3f5f"
            },
            "error_y": {
             "color": "#2a3f5f"
            },
            "marker": {
             "line": {
              "color": "#E5ECF6",
              "width": 0.5
             },
             "pattern": {
              "fillmode": "overlay",
              "size": 10,
              "solidity": 0.2
             }
            },
            "type": "bar"
           }
          ],
          "barpolar": [
           {
            "marker": {
             "line": {
              "color": "#E5ECF6",
              "width": 0.5
             },
             "pattern": {
              "fillmode": "overlay",
              "size": 10,
              "solidity": 0.2
             }
            },
            "type": "barpolar"
           }
          ],
          "carpet": [
           {
            "aaxis": {
             "endlinecolor": "#2a3f5f",
             "gridcolor": "white",
             "linecolor": "white",
             "minorgridcolor": "white",
             "startlinecolor": "#2a3f5f"
            },
            "baxis": {
             "endlinecolor": "#2a3f5f",
             "gridcolor": "white",
             "linecolor": "white",
             "minorgridcolor": "white",
             "startlinecolor": "#2a3f5f"
            },
            "type": "carpet"
           }
          ],
          "choropleth": [
           {
            "colorbar": {
             "outlinewidth": 0,
             "ticks": ""
            },
            "type": "choropleth"
           }
          ],
          "contour": [
           {
            "colorbar": {
             "outlinewidth": 0,
             "ticks": ""
            },
            "colorscale": [
             [
              0,
              "#0d0887"
             ],
             [
              0.1111111111111111,
              "#46039f"
             ],
             [
              0.2222222222222222,
              "#7201a8"
             ],
             [
              0.3333333333333333,
              "#9c179e"
             ],
             [
              0.4444444444444444,
              "#bd3786"
             ],
             [
              0.5555555555555556,
              "#d8576b"
             ],
             [
              0.6666666666666666,
              "#ed7953"
             ],
             [
              0.7777777777777778,
              "#fb9f3a"
             ],
             [
              0.8888888888888888,
              "#fdca26"
             ],
             [
              1,
              "#f0f921"
             ]
            ],
            "type": "contour"
           }
          ],
          "contourcarpet": [
           {
            "colorbar": {
             "outlinewidth": 0,
             "ticks": ""
            },
            "type": "contourcarpet"
           }
          ],
          "heatmap": [
           {
            "colorbar": {
             "outlinewidth": 0,
             "ticks": ""
            },
            "colorscale": [
             [
              0,
              "#0d0887"
             ],
             [
              0.1111111111111111,
              "#46039f"
             ],
             [
              0.2222222222222222,
              "#7201a8"
             ],
             [
              0.3333333333333333,
              "#9c179e"
             ],
             [
              0.4444444444444444,
              "#bd3786"
             ],
             [
              0.5555555555555556,
              "#d8576b"
             ],
             [
              0.6666666666666666,
              "#ed7953"
             ],
             [
              0.7777777777777778,
              "#fb9f3a"
             ],
             [
              0.8888888888888888,
              "#fdca26"
             ],
             [
              1,
              "#f0f921"
             ]
            ],
            "type": "heatmap"
           }
          ],
          "heatmapgl": [
           {
            "colorbar": {
             "outlinewidth": 0,
             "ticks": ""
            },
            "colorscale": [
             [
              0,
              "#0d0887"
             ],
             [
              0.1111111111111111,
              "#46039f"
             ],
             [
              0.2222222222222222,
              "#7201a8"
             ],
             [
              0.3333333333333333,
              "#9c179e"
             ],
             [
              0.4444444444444444,
              "#bd3786"
             ],
             [
              0.5555555555555556,
              "#d8576b"
             ],
             [
              0.6666666666666666,
              "#ed7953"
             ],
             [
              0.7777777777777778,
              "#fb9f3a"
             ],
             [
              0.8888888888888888,
              "#fdca26"
             ],
             [
              1,
              "#f0f921"
             ]
            ],
            "type": "heatmapgl"
           }
          ],
          "histogram": [
           {
            "marker": {
             "pattern": {
              "fillmode": "overlay",
              "size": 10,
              "solidity": 0.2
             }
            },
            "type": "histogram"
           }
          ],
          "histogram2d": [
           {
            "colorbar": {
             "outlinewidth": 0,
             "ticks": ""
            },
            "colorscale": [
             [
              0,
              "#0d0887"
             ],
             [
              0.1111111111111111,
              "#46039f"
             ],
             [
              0.2222222222222222,
              "#7201a8"
             ],
             [
              0.3333333333333333,
              "#9c179e"
             ],
             [
              0.4444444444444444,
              "#bd3786"
             ],
             [
              0.5555555555555556,
              "#d8576b"
             ],
             [
              0.6666666666666666,
              "#ed7953"
             ],
             [
              0.7777777777777778,
              "#fb9f3a"
             ],
             [
              0.8888888888888888,
              "#fdca26"
             ],
             [
              1,
              "#f0f921"
             ]
            ],
            "type": "histogram2d"
           }
          ],
          "histogram2dcontour": [
           {
            "colorbar": {
             "outlinewidth": 0,
             "ticks": ""
            },
            "colorscale": [
             [
              0,
              "#0d0887"
             ],
             [
              0.1111111111111111,
              "#46039f"
             ],
             [
              0.2222222222222222,
              "#7201a8"
             ],
             [
              0.3333333333333333,
              "#9c179e"
             ],
             [
              0.4444444444444444,
              "#bd3786"
             ],
             [
              0.5555555555555556,
              "#d8576b"
             ],
             [
              0.6666666666666666,
              "#ed7953"
             ],
             [
              0.7777777777777778,
              "#fb9f3a"
             ],
             [
              0.8888888888888888,
              "#fdca26"
             ],
             [
              1,
              "#f0f921"
             ]
            ],
            "type": "histogram2dcontour"
           }
          ],
          "mesh3d": [
           {
            "colorbar": {
             "outlinewidth": 0,
             "ticks": ""
            },
            "type": "mesh3d"
           }
          ],
          "parcoords": [
           {
            "line": {
             "colorbar": {
              "outlinewidth": 0,
              "ticks": ""
             }
            },
            "type": "parcoords"
           }
          ],
          "pie": [
           {
            "automargin": true,
            "type": "pie"
           }
          ],
          "scatter": [
           {
            "fillpattern": {
             "fillmode": "overlay",
             "size": 10,
             "solidity": 0.2
            },
            "type": "scatter"
           }
          ],
          "scatter3d": [
           {
            "line": {
             "colorbar": {
              "outlinewidth": 0,
              "ticks": ""
             }
            },
            "marker": {
             "colorbar": {
              "outlinewidth": 0,
              "ticks": ""
             }
            },
            "type": "scatter3d"
           }
          ],
          "scattercarpet": [
           {
            "marker": {
             "colorbar": {
              "outlinewidth": 0,
              "ticks": ""
             }
            },
            "type": "scattercarpet"
           }
          ],
          "scattergeo": [
           {
            "marker": {
             "colorbar": {
              "outlinewidth": 0,
              "ticks": ""
             }
            },
            "type": "scattergeo"
           }
          ],
          "scattergl": [
           {
            "marker": {
             "colorbar": {
              "outlinewidth": 0,
              "ticks": ""
             }
            },
            "type": "scattergl"
           }
          ],
          "scattermapbox": [
           {
            "marker": {
             "colorbar": {
              "outlinewidth": 0,
              "ticks": ""
             }
            },
            "type": "scattermapbox"
           }
          ],
          "scatterpolar": [
           {
            "marker": {
             "colorbar": {
              "outlinewidth": 0,
              "ticks": ""
             }
            },
            "type": "scatterpolar"
           }
          ],
          "scatterpolargl": [
           {
            "marker": {
             "colorbar": {
              "outlinewidth": 0,
              "ticks": ""
             }
            },
            "type": "scatterpolargl"
           }
          ],
          "scatterternary": [
           {
            "marker": {
             "colorbar": {
              "outlinewidth": 0,
              "ticks": ""
             }
            },
            "type": "scatterternary"
           }
          ],
          "surface": [
           {
            "colorbar": {
             "outlinewidth": 0,
             "ticks": ""
            },
            "colorscale": [
             [
              0,
              "#0d0887"
             ],
             [
              0.1111111111111111,
              "#46039f"
             ],
             [
              0.2222222222222222,
              "#7201a8"
             ],
             [
              0.3333333333333333,
              "#9c179e"
             ],
             [
              0.4444444444444444,
              "#bd3786"
             ],
             [
              0.5555555555555556,
              "#d8576b"
             ],
             [
              0.6666666666666666,
              "#ed7953"
             ],
             [
              0.7777777777777778,
              "#fb9f3a"
             ],
             [
              0.8888888888888888,
              "#fdca26"
             ],
             [
              1,
              "#f0f921"
             ]
            ],
            "type": "surface"
           }
          ],
          "table": [
           {
            "cells": {
             "fill": {
              "color": "#EBF0F8"
             },
             "line": {
              "color": "white"
             }
            },
            "header": {
             "fill": {
              "color": "#C8D4E3"
             },
             "line": {
              "color": "white"
             }
            },
            "type": "table"
           }
          ]
         },
         "layout": {
          "annotationdefaults": {
           "arrowcolor": "#2a3f5f",
           "arrowhead": 0,
           "arrowwidth": 1
          },
          "autotypenumbers": "strict",
          "coloraxis": {
           "colorbar": {
            "outlinewidth": 0,
            "ticks": ""
           }
          },
          "colorscale": {
           "diverging": [
            [
             0,
             "#8e0152"
            ],
            [
             0.1,
             "#c51b7d"
            ],
            [
             0.2,
             "#de77ae"
            ],
            [
             0.3,
             "#f1b6da"
            ],
            [
             0.4,
             "#fde0ef"
            ],
            [
             0.5,
             "#f7f7f7"
            ],
            [
             0.6,
             "#e6f5d0"
            ],
            [
             0.7,
             "#b8e186"
            ],
            [
             0.8,
             "#7fbc41"
            ],
            [
             0.9,
             "#4d9221"
            ],
            [
             1,
             "#276419"
            ]
           ],
           "sequential": [
            [
             0,
             "#0d0887"
            ],
            [
             0.1111111111111111,
             "#46039f"
            ],
            [
             0.2222222222222222,
             "#7201a8"
            ],
            [
             0.3333333333333333,
             "#9c179e"
            ],
            [
             0.4444444444444444,
             "#bd3786"
            ],
            [
             0.5555555555555556,
             "#d8576b"
            ],
            [
             0.6666666666666666,
             "#ed7953"
            ],
            [
             0.7777777777777778,
             "#fb9f3a"
            ],
            [
             0.8888888888888888,
             "#fdca26"
            ],
            [
             1,
             "#f0f921"
            ]
           ],
           "sequentialminus": [
            [
             0,
             "#0d0887"
            ],
            [
             0.1111111111111111,
             "#46039f"
            ],
            [
             0.2222222222222222,
             "#7201a8"
            ],
            [
             0.3333333333333333,
             "#9c179e"
            ],
            [
             0.4444444444444444,
             "#bd3786"
            ],
            [
             0.5555555555555556,
             "#d8576b"
            ],
            [
             0.6666666666666666,
             "#ed7953"
            ],
            [
             0.7777777777777778,
             "#fb9f3a"
            ],
            [
             0.8888888888888888,
             "#fdca26"
            ],
            [
             1,
             "#f0f921"
            ]
           ]
          },
          "colorway": [
           "#636efa",
           "#EF553B",
           "#00cc96",
           "#ab63fa",
           "#FFA15A",
           "#19d3f3",
           "#FF6692",
           "#B6E880",
           "#FF97FF",
           "#FECB52"
          ],
          "font": {
           "color": "#2a3f5f"
          },
          "geo": {
           "bgcolor": "white",
           "lakecolor": "white",
           "landcolor": "#E5ECF6",
           "showlakes": true,
           "showland": true,
           "subunitcolor": "white"
          },
          "hoverlabel": {
           "align": "left"
          },
          "hovermode": "closest",
          "mapbox": {
           "style": "light"
          },
          "paper_bgcolor": "white",
          "plot_bgcolor": "#E5ECF6",
          "polar": {
           "angularaxis": {
            "gridcolor": "white",
            "linecolor": "white",
            "ticks": ""
           },
           "bgcolor": "#E5ECF6",
           "radialaxis": {
            "gridcolor": "white",
            "linecolor": "white",
            "ticks": ""
           }
          },
          "scene": {
           "xaxis": {
            "backgroundcolor": "#E5ECF6",
            "gridcolor": "white",
            "gridwidth": 2,
            "linecolor": "white",
            "showbackground": true,
            "ticks": "",
            "zerolinecolor": "white"
           },
           "yaxis": {
            "backgroundcolor": "#E5ECF6",
            "gridcolor": "white",
            "gridwidth": 2,
            "linecolor": "white",
            "showbackground": true,
            "ticks": "",
            "zerolinecolor": "white"
           },
           "zaxis": {
            "backgroundcolor": "#E5ECF6",
            "gridcolor": "white",
            "gridwidth": 2,
            "linecolor": "white",
            "showbackground": true,
            "ticks": "",
            "zerolinecolor": "white"
           }
          },
          "shapedefaults": {
           "line": {
            "color": "#2a3f5f"
           }
          },
          "ternary": {
           "aaxis": {
            "gridcolor": "white",
            "linecolor": "white",
            "ticks": ""
           },
           "baxis": {
            "gridcolor": "white",
            "linecolor": "white",
            "ticks": ""
           },
           "bgcolor": "#E5ECF6",
           "caxis": {
            "gridcolor": "white",
            "linecolor": "white",
            "ticks": ""
           }
          },
          "title": {
           "x": 0.05
          },
          "xaxis": {
           "automargin": true,
           "gridcolor": "white",
           "linecolor": "white",
           "ticks": "",
           "title": {
            "standoff": 15
           },
           "zerolinecolor": "white",
           "zerolinewidth": 2
          },
          "yaxis": {
           "automargin": true,
           "gridcolor": "white",
           "linecolor": "white",
           "ticks": "",
           "title": {
            "standoff": 15
           },
           "zerolinecolor": "white",
           "zerolinewidth": 2
          }
         }
        },
        "width": 1000
       }
      }
     },
     "metadata": {},
     "output_type": "display_data"
    }
   ],
   "source": [
    "import plotly.express as px\n",
    "\n",
    "district_sum =data.groupby('district_id').size().reset_index(name='Плотность')\n",
    "\n",
    "data_district_sum = pd.merge(data, district_sum, on='district_id')\n",
    "\n",
    "px.set_mapbox_access_token(MAPBOX_ACCESS_TOKEN)\n",
    "fig = px.scatter_mapbox(data_district_sum, lat='latitude', lon='longitude',\n",
    "                        color='Плотность', size='Плотность',\n",
    "                        width=1000, height=800, \n",
    "                        hover_name='name', # hover_data='district_id',\n",
    "                        mapbox_style='open-street-map')\n",
    "fig.show()"
   ]
  }
 ],
 "metadata": {
  "kernelspec": {
   "display_name": "Python 3",
   "language": "python",
   "name": "python3"
  },
  "language_info": {
   "codemirror_mode": {
    "name": "ipython",
    "version": 3
   },
   "file_extension": ".py",
   "mimetype": "text/x-python",
   "name": "python",
   "nbconvert_exporter": "python",
   "pygments_lexer": "ipython3",
   "version": "3.11.5"
  }
 },
 "nbformat": 4,
 "nbformat_minor": 2
}
